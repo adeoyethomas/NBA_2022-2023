{
 "cells": [
  {
   "cell_type": "code",
   "execution_count": 35,
   "id": "5eab969d-8cb3-449f-8a7f-66804b1fca7f",
   "metadata": {},
   "outputs": [],
   "source": [
    "import requests\n",
    "import pandas as pd\n",
    "import json\n",
    "from dotenv import load_dotenv\n",
    "import os\n",
    "import time"
   ]
  },
  {
   "cell_type": "code",
   "execution_count": 39,
   "id": "64880874-5fcf-4acc-b17b-fed6843189fb",
   "metadata": {},
   "outputs": [
    {
     "name": "stdout",
     "output_type": "stream",
     "text": [
      "{'x-rapidapi-key': '28f61182d84a56cbc1d5d835057ec1ce'}\n"
     ]
    }
   ],
   "source": [
    "api_key = {}\n",
    "try:\n",
    "    with open('api_key.json') as file:\n",
    "        api_key = json.load(file)\n",
    "except FileNotFoundError:\n",
    "    print(\"Error: credentials.json file not found.\")"
   ]
  },
  {
   "cell_type": "code",
   "execution_count": 40,
   "id": "4f7a2ed8-cd73-4328-aaa0-bcb10baad22e",
   "metadata": {},
   "outputs": [],
   "source": [
    "url = \"https://v1.basketball.api-sports.io/standings?league=12&season=2022-2023\"\n",
    "\n",
    "payload = {}\n",
    "headers = {\n",
    "    'x-rapidapi-key': api_key['x-rapidapi-key'],\n",
    "    'x-rapidapi-host': 'v1.basketball.api-sports.io'\n",
    "}"
   ]
  },
  {
   "cell_type": "code",
   "execution_count": 41,
   "id": "5bf92d26-3c87-4b29-a4c2-2869c88385c0",
   "metadata": {},
   "outputs": [
    {
     "name": "stdout",
     "output_type": "stream",
     "text": [
      "Daily calls remaining = 49\n",
      "Calls left per minute = 9\n",
      "\n",
      "                      Team  Team ID          Conference Conference Position\n",
      "0           Denver Nuggets      139  Western Conference                   1\n",
      "1        Memphis Grizzlies      146  Western Conference                   2\n",
      "2         Sacramento Kings      157  Western Conference                   3\n",
      "3             Phoenix Suns      155  Western Conference                   4\n",
      "4    Golden State Warriors      141  Western Conference                   5\n",
      "5     Los Angeles Clippers      144  Western Conference                   6\n",
      "6     New Orleans Pelicans      150  Western Conference                   7\n",
      "7       Los Angeles Lakers      145  Western Conference                   8\n",
      "8   Minnesota Timberwolves      149  Western Conference                   9\n",
      "9    Oklahoma City Thunder      152  Western Conference                  10\n",
      "10        Dallas Mavericks      138  Western Conference                  11\n",
      "11               Utah Jazz      160  Western Conference                  12\n",
      "12  Portland Trail Blazers      156  Western Conference                  13\n",
      "13         Houston Rockets      142  Western Conference                  14\n",
      "14       San Antonio Spurs      158  Western Conference                  15\n",
      "15         Milwaukee Bucks      148  Eastern Conference                   1\n",
      "16          Boston Celtics      133  Eastern Conference                   2\n",
      "17      Philadelphia 76ers      154  Eastern Conference                   3\n",
      "18     Cleveland Cavaliers      137  Eastern Conference                   4\n",
      "19         New York Knicks      151  Eastern Conference                   5\n",
      "20           Brooklyn Nets      134  Eastern Conference                   6\n",
      "21              Miami Heat      147  Eastern Conference                   7\n",
      "22           Atlanta Hawks      132  Eastern Conference                   8\n",
      "23         Toronto Raptors      159  Eastern Conference                   9\n",
      "24           Chicago Bulls      136  Eastern Conference                  10\n",
      "25      Washington Wizards      161  Eastern Conference                  11\n",
      "26           Orlando Magic      153  Eastern Conference                  12\n",
      "27          Indiana Pacers      143  Eastern Conference                  13\n",
      "28       Charlotte Hornets      135  Eastern Conference                  14\n",
      "29         Detroit Pistons      140  Eastern Conference                  15\n"
     ]
    }
   ],
   "source": [
    "# The team_id_grab() function grabs the teams id,name,conference and conference position and stores it in a DataFrame\n",
    "\n",
    "def team_id_grab():\n",
    "    # request.request sends a request of a specified method to the url (in this case the method is GET)\n",
    "    response = requests.request(\"GET\", url, headers=headers, data=payload)\n",
    "\n",
    "    # json.loads deserialises a JSON object to a standard python object (good for parsing)\n",
    "    # also it turns nulls to a None python object\n",
    "    standings = json.loads(response.text)\n",
    "\n",
    "    # team_lvl (team level) grabs the section of the returned data that we need to parse through to collect \n",
    "    # info on the team\n",
    "    team_lvl = standings['response'][0]\n",
    "       \n",
    "    # Creating a DataFrame to store the team API ids\n",
    "    team_ids_df = pd.DataFrame(columns = ['Team', 'Team ID', 'Conference', 'Conference Position'])\n",
    "     \n",
    "    # Creating variables that hold the requests daily limit remaining (100 per day) \n",
    "    # and the per minute requests remaining (10 per minute)\n",
    "    daily_calls_remaining = response.headers['x-ratelimit-requests-remaining']\n",
    "    perMinute_calls_remaining = response.headers['X-RateLimit-Remaining']\n",
    "    \n",
    "    print(f'Daily calls remaining = {daily_calls_remaining}')\n",
    "    print(f'Calls left per minute = {perMinute_calls_remaining}\\n')\n",
    "\n",
    "    df_row = 0\n",
    "\n",
    "    for team in team_lvl:\n",
    "        if team['group']['name'] == \"Western Conference\" or team['group']['name'] == \"Eastern Conference\":\n",
    "            t_id = int(team['team']['id'])\n",
    "            t_name = team['team']['name']\n",
    "            t_conference = team['group']['name']\n",
    "            t_position = str(team['position'])\n",
    "\n",
    "            team_ids_df.loc[df_row] = [t_name, t_id, t_conference, t_position]\n",
    "            df_row += 1\n",
    "    return team_ids_df\n",
    "\n",
    "team_ids_df = team_id_grab()\n",
    "print(team_ids_df)\n"
   ]
  },
  {
   "cell_type": "code",
   "execution_count": null,
   "id": "d761a85c-ab80-4a34-ad4b-376190faf3aa",
   "metadata": {},
   "outputs": [],
   "source": []
  }
 ],
 "metadata": {
  "kernelspec": {
   "display_name": "Python 3 (ipykernel)",
   "language": "python",
   "name": "python3"
  },
  "language_info": {
   "codemirror_mode": {
    "name": "ipython",
    "version": 3
   },
   "file_extension": ".py",
   "mimetype": "text/x-python",
   "name": "python",
   "nbconvert_exporter": "python",
   "pygments_lexer": "ipython3",
   "version": "3.10.2"
  }
 },
 "nbformat": 4,
 "nbformat_minor": 5
}
